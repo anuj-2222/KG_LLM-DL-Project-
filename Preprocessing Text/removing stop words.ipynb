{
 "cells": [
  {
   "cell_type": "code",
   "execution_count": 4,
   "metadata": {},
   "outputs": [
    {
     "name": "stderr",
     "output_type": "stream",
     "text": [
      "[nltk_data] Downloading package stopwords to\n",
      "[nltk_data]     C:\\Users\\kishu\\AppData\\Roaming\\nltk_data...\n",
      "[nltk_data]   Unzipping corpora\\stopwords.zip.\n",
      "[nltk_data] Downloading package punkt to\n",
      "[nltk_data]     C:\\Users\\kishu\\AppData\\Roaming\\nltk_data...\n",
      "[nltk_data]   Package punkt is already up-to-date!\n"
     ]
    },
    {
     "data": {
      "text/plain": [
       "True"
      ]
     },
     "execution_count": 4,
     "metadata": {},
     "output_type": "execute_result"
    }
   ],
   "source": [
    "import nltk\n",
    "from nltk.corpus import stopwords\n",
    "import os\n",
    "\n",
    "nltk.download('stopwords')\n",
    "nltk.download('punkt')\n"
   ]
  },
  {
   "cell_type": "code",
   "execution_count": 10,
   "metadata": {},
   "outputs": [],
   "source": [
    "\n",
    "def remove_stopwords(text):\n",
    "    stop_words = set(stopwords.words('english'))\n",
    "    word_tokens = nltk.word_tokenize(text)\n",
    "    filtered_text = [word for word in word_tokens if word.lower() not in stop_words]\n",
    "    return filtered_text\n",
    "\n",
    "def remove_articles(phrase):\n",
    "    articles = {'a', 'an', 'the'}\n",
    "    words = phrase.split()\n",
    "    filtered_words = [word for word in words if word.lower() not in articles]\n",
    "    return filtered_words\n",
    "\n",
    "def clean_text_file(input_file, output_file):\n",
    "    # Read data from input file\n",
    "    with open(input_file, 'r', encoding='utf-8') as file:\n",
    "        data = file.read()\n",
    "\n",
    "    # Remove stopwords\n",
    "    data_without_stopwords = remove_stopwords(data)\n",
    "\n",
    "    # Remove articles\n",
    "    cleaned_data = [remove_articles(word) for word in data_without_stopwords]\n",
    "\n",
    "    # Flatten the list of lists\n",
    "    flattened_data = [word for sublist in cleaned_data for word in sublist]\n",
    "\n",
    "    # Write cleaned data to output file\n",
    "    with open(output_file, 'w', encoding='utf-8') as file:\n",
    "        for word in flattened_data:\n",
    "            file.write(\"%s\\n\" % word)\n",
    "\n",
    "input_file_path = 'Finalised_English_words_1.txt'\n",
    "output_file_path = 'Finalised_English_words_2.txt'\n"
   ]
  },
  {
   "cell_type": "code",
   "execution_count": 11,
   "metadata": {},
   "outputs": [
    {
     "name": "stdout",
     "output_type": "stream",
     "text": [
      "Data cleaned and saved to Finalised_English_words_2.txt\n"
     ]
    }
   ],
   "source": [
    "\n",
    "# Clean the text file\n",
    "clean_text_file(input_file_path, output_file_path)\n",
    "\n",
    "print(\"Data cleaned and saved to\", output_file_path)\n"
   ]
  }
 ],
 "metadata": {
  "kernelspec": {
   "display_name": "Python 3",
   "language": "python",
   "name": "python3"
  },
  "language_info": {
   "codemirror_mode": {
    "name": "ipython",
    "version": 3
   },
   "file_extension": ".py",
   "mimetype": "text/x-python",
   "name": "python",
   "nbconvert_exporter": "python",
   "pygments_lexer": "ipython3",
   "version": "3.11.2"
  }
 },
 "nbformat": 4,
 "nbformat_minor": 2
}
