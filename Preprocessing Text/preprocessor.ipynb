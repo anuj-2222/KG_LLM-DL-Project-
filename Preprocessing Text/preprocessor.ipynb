{
 "cells": [
  {
   "cell_type": "code",
   "execution_count": 6,
   "metadata": {},
   "outputs": [
    {
     "name": "stderr",
     "output_type": "stream",
     "text": [
      "[nltk_data] Downloading package words to\n",
      "[nltk_data]     C:\\Users\\kishu\\AppData\\Roaming\\nltk_data...\n",
      "[nltk_data]   Package words is already up-to-date!\n",
      "[nltk_data] Downloading package punkt to\n",
      "[nltk_data]     C:\\Users\\kishu\\AppData\\Roaming\\nltk_data...\n",
      "[nltk_data]   Package punkt is already up-to-date!\n"
     ]
    }
   ],
   "source": [
    "import nltk\n",
    "nltk.download('words')\n",
    "nltk.download('punkt')\n",
    "\n",
    "def is_english_word(word, english_vocab):\n",
    "    return word.lower() in english_vocab\n",
    "\n",
    "def count_words(file_path):\n",
    "    total_words = 0\n",
    "    english_words = 0\n",
    "    non_english_words = 0\n",
    "    eng=[]\n",
    "    english_vocab = set(w.lower() for w in nltk.corpus.words.words())\n",
    "    \n",
    "    with open(file_path, 'r', encoding='utf-8') as file:\n",
    "        for line in file:\n",
    "            words = nltk.word_tokenize(line)\n",
    "            total_words += len(words)\n",
    "            for word in words:\n",
    "                if is_english_word(word, english_vocab):\n",
    "                    english_words += 1\n",
    "                    eng.append(word)\n",
    "                else:\n",
    "                    non_english_words += 1\n",
    "    \n",
    "    return total_words, english_words, non_english_words, eng\n"
   ]
  },
  {
   "cell_type": "code",
   "execution_count": 8,
   "metadata": {},
   "outputs": [
    {
     "name": "stdout",
     "output_type": "stream",
     "text": [
      "Total words: 69585\n",
      "English words: 23333\n",
      "Non-English words: 46252\n"
     ]
    }
   ],
   "source": [
    "\n",
    "file_path = 'Separate_words.txt'  # Change this to the path of your text file\n",
    "total_words, english_words, non_english_words, english = count_words(file_path)\n",
    "\n",
    "print(\"Total words:\", total_words)\n",
    "print(\"English words:\", english_words)\n",
    "print(\"Non-English words:\", non_english_words)\n"
   ]
  },
  {
   "cell_type": "code",
   "execution_count": 9,
   "metadata": {},
   "outputs": [
    {
     "name": "stderr",
     "output_type": "stream",
     "text": [
      "[nltk_data] Downloading package words to\n",
      "[nltk_data]     C:\\Users\\kishu\\AppData\\Roaming\\nltk_data...\n",
      "[nltk_data]   Package words is already up-to-date!\n",
      "[nltk_data] Downloading package punkt to\n",
      "[nltk_data]     C:\\Users\\kishu\\AppData\\Roaming\\nltk_data...\n",
      "[nltk_data]   Package punkt is already up-to-date!\n"
     ]
    }
   ],
   "source": [
    "import nltk\n",
    "from nltk.corpus import words\n",
    "\n",
    "# Download the English words corpus if not already downloaded\n",
    "nltk.download('words')\n",
    "nltk.download('punkt')\n",
    "# Load the English words corpus\n",
    "english_words = set(words.words())\n",
    "\n",
    "# Function to check if a word is meaningful in English\n",
    "def is_english_word(word):\n",
    "    return word.lower() in english_words\n",
    "\n",
    "# Function to split a word into potentially meaningful parts\n",
    "def split_into_words(word):\n",
    "    word = word.lower()\n",
    "    for i in range(1, len(word)):\n",
    "        prefix = word[:i]\n",
    "        suffix = word[i:]\n",
    "        if prefix in english_words and suffix in english_words:\n",
    "            return prefix, suffix\n",
    "    return None, None\n",
    "\n",
    "# Read the list of words from the text file\n",
    "with open('Separate_words.txt', 'r',encoding='utf-8') as file:\n",
    "    words_list = file.read().split()\n",
    "\n",
    "# Filter out meaningful English words or potentially meaningful combinations\n",
    "meaningful_words = set()\n",
    "for word in words_list:\n",
    "    if is_english_word(word):\n",
    "        meaningful_words.add(word)\n",
    "    else:\n",
    "        prefix, suffix = split_into_words(word)\n",
    "        if prefix is not None and suffix is not None:\n",
    "            meaningful_words.add(prefix)\n",
    "            meaningful_words.add(suffix)\n"
   ]
  },
  {
   "cell_type": "code",
   "execution_count": 11,
   "metadata": {},
   "outputs": [
    {
     "name": "stdout",
     "output_type": "stream",
     "text": [
      "24651\n",
      "Unique words have been written to total_English_words_1.txt\n"
     ]
    }
   ],
   "source": [
    "print(len(meaningful_words))\n",
    "file_name = \"total_English_words_1.txt\"\n",
    "\n",
    "try:\n",
    "    # Open the file in write mode with UTF-8 encoding\n",
    "    with open(file_name, 'w', encoding='utf-8') as file:\n",
    "        # Iterate over the list\n",
    "        for item in meaningful_words:\n",
    "            # Write each element followed by a newline character\n",
    "            file.write(item + '\\n')\n",
    "    print(\"Unique words have been written to\", file_name)\n",
    "except Exception as e:\n",
    "    print(\"An error occurred:\", e)"
   ]
  },
  {
   "cell_type": "code",
   "execution_count": 9,
   "metadata": {},
   "outputs": [
    {
     "name": "stdout",
     "output_type": "stream",
     "text": [
      "Total words: 6362\n",
      "English words: 1955\n",
      "Non-English words: 4407\n"
     ]
    }
   ],
   "source": [
    "\n",
    "file_path = 'unique_words.txt'  # Change this to the path of your text file\n",
    "total_words, english_words, non_english_words, english = count_words(file_path)\n",
    "\n",
    "print(\"Total words:\", total_words)\n",
    "print(\"English words:\", english_words)\n",
    "print(\"Non-English words:\", non_english_words)"
   ]
  },
  {
   "cell_type": "code",
   "execution_count": 10,
   "metadata": {},
   "outputs": [
    {
     "name": "stdout",
     "output_type": "stream",
     "text": [
      "Unique words have been written to english_words_2.txt\n"
     ]
    }
   ],
   "source": [
    "file_name = \"english_words_2.txt\"\n",
    "\n",
    "try:\n",
    "    # Open the file in write mode with UTF-8 encoding\n",
    "    with open(file_name, 'w', encoding='utf-8') as file:\n",
    "        # Iterate over the list\n",
    "        for item in english:\n",
    "            # Write each element followed by a newline character\n",
    "            file.write(item + '\\n')\n",
    "    print(\"Unique words have been written to\", file_name)\n",
    "except Exception as e:\n",
    "    print(\"An error occurred:\", e)"
   ]
  },
  {
   "cell_type": "code",
   "execution_count": 12,
   "metadata": {},
   "outputs": [
    {
     "name": "stderr",
     "output_type": "stream",
     "text": [
      "[nltk_data] Downloading package words to\n",
      "[nltk_data]     C:\\Users\\kishu\\AppData\\Roaming\\nltk_data...\n",
      "[nltk_data]   Package words is already up-to-date!\n",
      "[nltk_data] Downloading package punkt to\n",
      "[nltk_data]     C:\\Users\\kishu\\AppData\\Roaming\\nltk_data...\n",
      "[nltk_data]   Package punkt is already up-to-date!\n"
     ]
    }
   ],
   "source": [
    "import nltk\n",
    "from nltk.corpus import words\n",
    "\n",
    "# Download the English words corpus if not already downloaded\n",
    "nltk.download('words')\n",
    "nltk.download('punkt')\n",
    "# Load the English words corpus\n",
    "english_words = set(words.words())\n",
    "\n",
    "# Function to check if a word is meaningful in English\n",
    "def is_english_word(word):\n",
    "    return word.lower() in english_words\n",
    "\n",
    "# Function to split a word into potentially meaningful parts\n",
    "def split_into_words(word):\n",
    "    word = word.lower()\n",
    "    for i in range(1, len(word)):\n",
    "        prefix = word[:i]\n",
    "        suffix = word[i:]\n",
    "        if prefix in english_words and suffix in english_words:\n",
    "            return prefix, suffix\n",
    "    return None, None\n",
    "\n",
    "# Read the list of words from the text file\n",
    "with open('Non_English_words.txt', 'r',encoding='utf-8') as file:\n",
    "    words_list = file.read().split()\n",
    "\n",
    "# Filter out meaningful English words or potentially meaningful combinations\n",
    "meaningful_words = set()\n",
    "for word in words_list:\n",
    "    if is_english_word(word):\n",
    "        meaningful_words.add(word)\n",
    "    else:\n",
    "        prefix, suffix = split_into_words(word)\n",
    "        if prefix is not None and suffix is not None:\n",
    "            meaningful_words.add(prefix)\n",
    "            meaningful_words.add(suffix)\n"
   ]
  },
  {
   "cell_type": "code",
   "execution_count": 13,
   "metadata": {},
   "outputs": [
    {
     "name": "stdout",
     "output_type": "stream",
     "text": [
      "Unique words have been written to english_words_2a.txt\n",
      "8471\n"
     ]
    }
   ],
   "source": [
    "\n",
    "# Print the meaningful words\n",
    "# print(\"Meaningful English words or combinations:\")\n",
    "# for word in sorted(meaningful_words):\n",
    "#     print(word)\n",
    "file_name = \"english_words_2a.txt\"\n",
    "\n",
    "try:\n",
    "    # Open the file in write mode with UTF-8 encoding\n",
    "    with open(file_name, 'w', encoding='utf-8') as file:\n",
    "        # Iterate over the list\n",
    "        for item in meaningful_words:\n",
    "            # Write each element followed by a newline character\n",
    "            file.write(item + '\\n')\n",
    "    print(\"Unique words have been written to\", file_name)\n",
    "except Exception as e:\n",
    "    print(\"An error occurred:\", e)\n",
    "print(len(meaningful_words))"
   ]
  },
  {
   "cell_type": "code",
   "execution_count": 14,
   "metadata": {},
   "outputs": [
    {
     "name": "stdout",
     "output_type": "stream",
     "text": [
      "Merged files into merged_file.txt\n"
     ]
    }
   ],
   "source": [
    "def merge_text_files(input_files, output_file):\n",
    "    with open(output_file, 'w') as outfile:\n",
    "        for input_file in input_files:\n",
    "            with open(input_file, 'r') as infile:\n",
    "                outfile.write(infile.read())\n",
    "\n",
    "# Example usage:\n",
    "input_files = [\"total_English_words_1.txt\", \"English_words.txt\", \"english_words_2.txt\", \"english_words_2a.txt\", \"english_words_3.txt\"]  # List of input file names\n",
    "output_file = \"merged_file.txt\"  # Name of the output merged file\n",
    "merge_text_files(input_files, output_file)\n",
    "print(f\"Merged files into {output_file}\")\n"
   ]
  }
 ],
 "metadata": {
  "kernelspec": {
   "display_name": "Python 3",
   "language": "python",
   "name": "python3"
  },
  "language_info": {
   "codemirror_mode": {
    "name": "ipython",
    "version": 3
   },
   "file_extension": ".py",
   "mimetype": "text/x-python",
   "name": "python",
   "nbconvert_exporter": "python",
   "pygments_lexer": "ipython3",
   "version": "3.11.2"
  }
 },
 "nbformat": 4,
 "nbformat_minor": 2
}
