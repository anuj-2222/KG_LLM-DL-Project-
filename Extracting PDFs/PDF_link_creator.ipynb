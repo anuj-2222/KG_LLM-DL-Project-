{
 "cells": [
  {
   "cell_type": "code",
   "execution_count": 1,
   "metadata": {},
   "outputs": [],
   "source": [
    "import pandas as pd\n",
    "df=pd.read_csv('amnuj.csv')\n",
    "\n",
    "\n",
    "# Define the specific string you want to prepend\n",
    "specific_string = 'https://storyweaver.org.in/en/v0/stories/download-story/'  # Change this to your desired prefix\n",
    "dt='.pdf'\n",
    "# Define the name of the column you want to modify\n",
    "column_name = 'LINK'\n",
    "\n",
    "# Apply a lambda function to prepend the specific string to each value in the column\n",
    "df[column_name] = df[column_name].apply(lambda x: specific_string + str(x)+dt)\n",
    "\n",
    "# Save the modified DataFrame back to a CSV file\n",
    "df.to_csv('LINK.csv', index=False)\n"
   ]
  }
 ],
 "metadata": {
  "kernelspec": {
   "display_name": "Python 3",
   "language": "python",
   "name": "python3"
  },
  "language_info": {
   "codemirror_mode": {
    "name": "ipython",
    "version": 3
   },
   "file_extension": ".py",
   "mimetype": "text/x-python",
   "name": "python",
   "nbconvert_exporter": "python",
   "pygments_lexer": "ipython3",
   "version": "3.11.2"
  }
 },
 "nbformat": 4,
 "nbformat_minor": 2
}
