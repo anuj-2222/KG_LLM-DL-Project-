{
 "cells": [
  {
   "cell_type": "code",
   "execution_count": 28,
   "metadata": {},
   "outputs": [],
   "source": [
    "import requests\n",
    "url=\"https://storyweaver.org.in/api/v1/books-search?languages[]=English&levels[]=1&levels[]=2&per_page=24&page={}\""
   ]
  },
  {
   "cell_type": "code",
   "execution_count": 54,
   "metadata": {},
   "outputs": [],
   "source": [
    "\n",
    "id=[]\n",
    "# index=259 is throwing some error  so execute from 1,259 then 260,391\n",
    "for pg_num in range(1,259):\n",
    "    response=requests.get(url.format(pg_num))\n",
    "    damn=response.json()\n",
    "    a=damn.get('metadata')\n",
    "    d=damn['data']\n",
    "    for i in d:\n",
    "        id_num=i['id']\n",
    "        id.append(id_num)\n"
   ]
  },
  {
   "cell_type": "code",
   "execution_count": 56,
   "metadata": {},
   "outputs": [],
   "source": [
    "id2=[]\n",
    "for pg_num in range(260,391):\n",
    "    response=requests.get(url.format(pg_num))\n",
    "    damn=response.json()\n",
    "    d=damn['data']\n",
    "    for i in d:\n",
    "        id_num2=i['id']\n",
    "        id.append(id_num2)\n"
   ]
  },
  {
   "cell_type": "code",
   "execution_count": 57,
   "metadata": {},
   "outputs": [
    {
     "name": "stdout",
     "output_type": "stream",
     "text": [
      "9332\n"
     ]
    }
   ],
   "source": [
    "print(len(id))\n"
   ]
  },
  {
   "cell_type": "code",
   "execution_count": 59,
   "metadata": {},
   "outputs": [],
   "source": [
    "import pandas as pd\n",
    "df = pd.DataFrame(id)\n",
    "df.to_csv(\"amnuj.csv\",index=False)\n"
   ]
  }
 ],
 "metadata": {
  "kernelspec": {
   "display_name": "Python 3",
   "language": "python",
   "name": "python3"
  },
  "language_info": {
   "codemirror_mode": {
    "name": "ipython",
    "version": 3
   },
   "file_extension": ".py",
   "mimetype": "text/x-python",
   "name": "python",
   "nbconvert_exporter": "python",
   "pygments_lexer": "ipython3",
   "version": "3.11.2"
  }
 },
 "nbformat": 4,
 "nbformat_minor": 2
}
